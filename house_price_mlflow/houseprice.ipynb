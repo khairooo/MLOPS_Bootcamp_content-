{
 "cells": [
  {
   "cell_type": "markdown",
   "metadata": {},
   "source": [
    "### House Price prediction with MLFLOW \n",
    "In this tutorial, we will\n",
    "1. Run a hyperparameter tuning while training a model \n",
    "2. log every hyperparameter and metrics in the MLFLOW UI \n",
    "3. Copare the results of the various runs in the MLFLOW UI \n",
    "4. Choose the best run and register it as a model \n",
    "\n"
   ]
  },
  {
   "cell_type": "code",
   "execution_count": 3,
   "metadata": {},
   "outputs": [],
   "source": [
    "import pandas as pd\n",
    "import mlflow \n",
    "import mlflow.sklearn \n",
    "from sklearn.ensemble import RandomForestRegressor\n",
    "from sklearn.model_selection import train_test_split, GridSearchCV\n",
    "from sklearn.metrics import mean_squared_error\n",
    "from sklearn.datasets import fetch_california_housing\n",
    "\n",
    "housing = fetch_california_housing()\n"
   ]
  },
  {
   "cell_type": "code",
   "execution_count": 6,
   "metadata": {},
   "outputs": [
    {
     "data": {
      "text/html": [
       "<div>\n",
       "<style scoped>\n",
       "    .dataframe tbody tr th:only-of-type {\n",
       "        vertical-align: middle;\n",
       "    }\n",
       "\n",
       "    .dataframe tbody tr th {\n",
       "        vertical-align: top;\n",
       "    }\n",
       "\n",
       "    .dataframe thead th {\n",
       "        text-align: right;\n",
       "    }\n",
       "</style>\n",
       "<table border=\"1\" class=\"dataframe\">\n",
       "  <thead>\n",
       "    <tr style=\"text-align: right;\">\n",
       "      <th></th>\n",
       "      <th>MedInc</th>\n",
       "      <th>HouseAge</th>\n",
       "      <th>AveRooms</th>\n",
       "      <th>AveBedrms</th>\n",
       "      <th>Population</th>\n",
       "      <th>AveOccup</th>\n",
       "      <th>Latitude</th>\n",
       "      <th>Longitude</th>\n",
       "      <th>Price</th>\n",
       "    </tr>\n",
       "  </thead>\n",
       "  <tbody>\n",
       "    <tr>\n",
       "      <th>0</th>\n",
       "      <td>8.3252</td>\n",
       "      <td>41.0</td>\n",
       "      <td>6.984127</td>\n",
       "      <td>1.023810</td>\n",
       "      <td>322.0</td>\n",
       "      <td>2.555556</td>\n",
       "      <td>37.88</td>\n",
       "      <td>-122.23</td>\n",
       "      <td>4.526</td>\n",
       "    </tr>\n",
       "    <tr>\n",
       "      <th>1</th>\n",
       "      <td>8.3014</td>\n",
       "      <td>21.0</td>\n",
       "      <td>6.238137</td>\n",
       "      <td>0.971880</td>\n",
       "      <td>2401.0</td>\n",
       "      <td>2.109842</td>\n",
       "      <td>37.86</td>\n",
       "      <td>-122.22</td>\n",
       "      <td>3.585</td>\n",
       "    </tr>\n",
       "    <tr>\n",
       "      <th>2</th>\n",
       "      <td>7.2574</td>\n",
       "      <td>52.0</td>\n",
       "      <td>8.288136</td>\n",
       "      <td>1.073446</td>\n",
       "      <td>496.0</td>\n",
       "      <td>2.802260</td>\n",
       "      <td>37.85</td>\n",
       "      <td>-122.24</td>\n",
       "      <td>3.521</td>\n",
       "    </tr>\n",
       "    <tr>\n",
       "      <th>3</th>\n",
       "      <td>5.6431</td>\n",
       "      <td>52.0</td>\n",
       "      <td>5.817352</td>\n",
       "      <td>1.073059</td>\n",
       "      <td>558.0</td>\n",
       "      <td>2.547945</td>\n",
       "      <td>37.85</td>\n",
       "      <td>-122.25</td>\n",
       "      <td>3.413</td>\n",
       "    </tr>\n",
       "    <tr>\n",
       "      <th>4</th>\n",
       "      <td>3.8462</td>\n",
       "      <td>52.0</td>\n",
       "      <td>6.281853</td>\n",
       "      <td>1.081081</td>\n",
       "      <td>565.0</td>\n",
       "      <td>2.181467</td>\n",
       "      <td>37.85</td>\n",
       "      <td>-122.25</td>\n",
       "      <td>3.422</td>\n",
       "    </tr>\n",
       "  </tbody>\n",
       "</table>\n",
       "</div>"
      ],
      "text/plain": [
       "   MedInc  HouseAge  AveRooms  AveBedrms  Population  AveOccup  Latitude  \\\n",
       "0  8.3252      41.0  6.984127   1.023810       322.0  2.555556     37.88   \n",
       "1  8.3014      21.0  6.238137   0.971880      2401.0  2.109842     37.86   \n",
       "2  7.2574      52.0  8.288136   1.073446       496.0  2.802260     37.85   \n",
       "3  5.6431      52.0  5.817352   1.073059       558.0  2.547945     37.85   \n",
       "4  3.8462      52.0  6.281853   1.081081       565.0  2.181467     37.85   \n",
       "\n",
       "   Longitude  Price  \n",
       "0    -122.23  4.526  \n",
       "1    -122.22  3.585  \n",
       "2    -122.24  3.521  \n",
       "3    -122.25  3.413  \n",
       "4    -122.25  3.422  "
      ]
     },
     "execution_count": 6,
     "metadata": {},
     "output_type": "execute_result"
    }
   ],
   "source": [
    "# Prepare the dataset\n",
    "data = pd.DataFrame(housing.data, columns = housing.feature_names)\n",
    "data[\"Price\"] = housing.target\n",
    "data.head()"
   ]
  },
  {
   "cell_type": "code",
   "execution_count": 7,
   "metadata": {},
   "outputs": [],
   "source": [
    "from urllib.parse import urlparse ## module in python's standards library used to parse URLs\n",
    "## Independent and dependent features \n",
    "\n",
    "X = data.drop(\"Price\", axis=1)\n",
    "y = data[\"Price\"]"
   ]
  },
  {
   "cell_type": "code",
   "execution_count": 8,
   "metadata": {},
   "outputs": [],
   "source": [
    "## Hyperparameter tuning using GridSearchcv\n",
    "\n",
    "def hyperparameter_tuning(X_train, y_train, param_grid):\n",
    "    rf = RandomForestRegressor()\n",
    "    grid_serach = GridSearchCV(estimator=rf,param_grid =  param_grid,cv= 3,n_jobs = 2, verbose = 2,\n",
    "                               scoring=\"neg_mean_squared_error\")\n",
    "    \n",
    "    grid_serach.fit(X_train, y_train)\n",
    "    return grid_serach"
   ]
  },
  {
   "cell_type": "code",
   "execution_count": 10,
   "metadata": {},
   "outputs": [
    {
     "name": "stdout",
     "output_type": "stream",
     "text": [
      "Fitting 3 folds for each of 48 candidates, totalling 144 fits\n"
     ]
    },
    {
     "name": "stderr",
     "output_type": "stream",
     "text": [
      "2024/11/02 20:26:34 WARNING mlflow.models.model: Model logged without a signature and input example. Please set `input_example` parameter when logging the model to auto infer the model signature.\n",
      "Successfully registered model 'Best RandomForest model'.\n",
      "2024/11/02 20:26:36 INFO mlflow.store.model_registry.abstract_store: Waiting up to 300 seconds for model version to finish creation. Model name: Best RandomForest model, version 1\n",
      "Created version '1' of model 'Best RandomForest model'.\n",
      "2024/11/02 20:26:36 INFO mlflow.tracking._tracking_service.client: 🏃 View run welcoming-conch-262 at: http://127.0.0.1:5000/#/experiments/0/runs/296d7a5924584fd3b6a8e01c3d163bd7.\n",
      "2024/11/02 20:26:36 INFO mlflow.tracking._tracking_service.client: 🧪 View experiment at: http://127.0.0.1:5000/#/experiments/0.\n"
     ]
    },
    {
     "name": "stdout",
     "output_type": "stream",
     "text": [
      "best hyperparameters : {'max_depth': 40, 'max_features': 'sqrt', 'min_samples_leaf': 1, 'min_samples_split': 15, 'n_estimators': 200}\n",
      "Mean Squared Error : 0.25669262014710115\n"
     ]
    }
   ],
   "source": [
    "## Split the Data into train test \n",
    "\n",
    "X_train, X_test, y_train, y_test = train_test_split(X, y, test_size=0.2, random_state=42)\n",
    "\n",
    "from mlflow.models import infer_signature\n",
    "signature = infer_signature(X_train, y_train)\n",
    "\n",
    "## DEfine the hyperparamters grid \n",
    "param_grid = {\n",
    "    'n_estimators': [100, 200],\n",
    "    'max_depth': [None, 40, 50],\n",
    "    'min_samples_split': [ 15, 20],\n",
    "    'min_samples_leaf': [1, 8],\n",
    "    'max_features': ['auto', 'sqrt']\n",
    "   \n",
    "}\n",
    "\n",
    "## Start the MLFLOW experiment\n",
    "\n",
    "with mlflow.start_run():\n",
    "    ## Perform Hyperparameter tuning\n",
    "    grid_search = hyperparameter_tuning(X_train, y_train, param_grid)\n",
    "    ## Get the best model \n",
    "    best_model = grid_search.best_estimator_\n",
    "    ## Evaluate the best model \n",
    "    y_predict  = best_model.predict(X_test)\n",
    "    mse = mean_squared_error(y_test, y_predict)\n",
    "    mlflow.log_param(\"Best_n_estimators\", grid_search.best_params_[\"n_estimators\"])\n",
    "    mlflow.log_param(\"best_max_depth\",grid_search.best_params_[\"max_depth\"])\n",
    "    mlflow.log_param(\"best_min_samples_split\", grid_search.best_params_[\"min_samples_split\"])\n",
    "    mlflow.log_param(\"best_min_samples_leaf\", grid_search.best_params_[\"min_samples_leaf\"])\n",
    "    mlflow.log_param(\"best_max_features\", grid_search.best_params_[\"max_features\"])\n",
    "    mlflow.log_metric(\"mse\", mse)\n",
    "\n",
    "\n",
    "    ## Tracking uri \n",
    "    mlflow.set_tracking_uri(uri=\"http://127.0.0.1:5000\")\n",
    "    tracking_uri_type_store = urlparse(mlflow.get_tracking_uri()).scheme\n",
    "\n",
    "    if tracking_uri_type_store != \"file\": \n",
    "        mlflow.sklearn.log_model(best_model,\"model\",registered_model_name=\"Best RandomForest model\")\n",
    "    else:\n",
    "        mlflow.sklearn.log_model(best_model,\"model\", signature = signature)\n",
    "\n",
    "    print(f\"best hyperparameters : {grid_search.best_params_}\")\n",
    "    print(f\"Mean Squared Error : {mse}\")\n"
   ]
  },
  {
   "cell_type": "code",
   "execution_count": null,
   "metadata": {},
   "outputs": [],
   "source": []
  }
 ],
 "metadata": {
  "kernelspec": {
   "display_name": "venv",
   "language": "python",
   "name": "python3"
  },
  "language_info": {
   "codemirror_mode": {
    "name": "ipython",
    "version": 3
   },
   "file_extension": ".py",
   "mimetype": "text/x-python",
   "name": "python",
   "nbconvert_exporter": "python",
   "pygments_lexer": "ipython3",
   "version": "3.8.0"
  }
 },
 "nbformat": 4,
 "nbformat_minor": 2
}
